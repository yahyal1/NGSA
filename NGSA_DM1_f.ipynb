{
 "cells": [
  {
   "cell_type": "markdown",
   "metadata": {},
   "source": [
    "# Import necessary elements"
   ]
  },
  {
   "cell_type": "code",
   "execution_count": 159,
   "metadata": {},
   "outputs": [],
   "source": [
    "from scipy.special import binom\n",
    "import matplotlib.pyplot as plt\n",
    "from math import log,exp\n",
    "import networkx as nx\n",
    "import numpy as np\n",
    "import copy as cp\n",
    "import random"
   ]
  },
  {
   "cell_type": "code",
   "execution_count": 160,
   "metadata": {},
   "outputs": [],
   "source": [
    "graph = nx.read_edgelist('/Users/lazraq/Desktop/NGSA/DM1/CA-GrQc.txt')"
   ]
  },
  {
   "cell_type": "markdown",
   "metadata": {},
   "source": [
    "# Question 7"
   ]
  },
  {
   "cell_type": "markdown",
   "metadata": {},
   "source": [
    "## 1. Basic properties of the network"
   ]
  },
  {
   "cell_type": "markdown",
   "metadata": {},
   "source": [
    "Here is the results for the basic statistics "
   ]
  },
  {
   "cell_type": "code",
   "execution_count": 161,
   "metadata": {},
   "outputs": [
    {
     "name": "stdout",
     "output_type": "stream",
     "text": [
      "number of nodes :  5242\n",
      "number of edges :  14496\n",
      "number of connected components :  355\n"
     ]
    }
   ],
   "source": [
    "print \"number of nodes : \" , len(graph.nodes)\n",
    "print \"number of edges : \", len(graph.edges)\n",
    "print \"number of connected components : \", nx.number_connected_components(graph)"
   ]
  },
  {
   "cell_type": "code",
   "execution_count": 162,
   "metadata": {},
   "outputs": [],
   "source": [
    "liste_prep= nx.connected_components(graph)\n",
    "liste_extract=[len(element) for element in liste_prep] "
   ]
  },
  {
   "cell_type": "code",
   "execution_count": 163,
   "metadata": {},
   "outputs": [
    {
     "data": {
      "image/png": "[encoded data removed]",
      "text/plain": [
       "<Figure size 432x288 with 1 Axes>"
      ]
     },
     "metadata": {
      "needs_background": "light"
     },
     "output_type": "display_data"
    }
   ],
   "source": [
    "#let define a function that returns a dictionnary made of tulpe (element, # of occurence)\n",
    "def count_element(liste):\n",
    "    dictio = {}\n",
    "    for element in liste:\n",
    "        if element in dictio:\n",
    "            dictio[element] += 1\n",
    "        else:\n",
    "            dictio[element] = 1\n",
    "    return dictio\n",
    "\n",
    "frequence= count_element(liste_extract)\n",
    "\n",
    "plt.figure()\n",
    "plt.plot(frequence.keys(), frequence.values(), 'go')\n",
    "plt.xlabel(\"Connected Component size\")\n",
    "plt.ylabel(\"Number of CC\")\n",
    "plt.xscale(\"log\")\n",
    "plt.title(\"Connected component size distribution\")\n",
    "plt.show()"
   ]
  },
  {
   "cell_type": "code",
   "execution_count": 164,
   "metadata": {},
   "outputs": [
    {
     "data": {
      "text/plain": [
       "5242"
      ]
     },
     "execution_count": 164,
     "metadata": {},
     "output_type": "execute_result"
    }
   ],
   "source": [
    "graph.number_of_nodes()"
   ]
  },
  {
   "cell_type": "code",
   "execution_count": 165,
   "metadata": {},
   "outputs": [],
   "source": [
    "GCC= max(nx.connected_component_subgraphs(graph), key=len)"
   ]
  },
  {
   "cell_type": "markdown",
   "metadata": {},
   "source": [
    "Here is the statisitcs regarding the GCC : "
   ]
  },
  {
   "cell_type": "code",
   "execution_count": 166,
   "metadata": {},
   "outputs": [
    {
     "name": "stdout",
     "output_type": "stream",
     "text": [
      "largest connected component nodes number :  4158\n",
      "largest connected component edges number :  13428\n",
      "fraction of nodes of the whole graph that belong to GCC :  79.320869897  %\n",
      "fraction of edges of the whole graph that belong to GCC :  92.6324503311  %\n"
     ]
    }
   ],
   "source": [
    "print \"largest connected component nodes number : \" , GCC.number_of_nodes()\n",
    "print \"largest connected component edges number : \" , GCC.number_of_edges()\n",
    "print \"fraction of nodes of the whole graph that belong to GCC : \" , GCC.number_of_nodes()/float(graph.number_of_nodes())*100,\" %\"\n",
    "print \"fraction of edges of the whole graph that belong to GCC : \" , GCC.number_of_edges()/float(graph.number_of_edges())*100,\" %\""
   ]
  },
  {
   "cell_type": "markdown",
   "metadata": {},
   "source": [
    "The network contain more than 300 connected component, but almost 80% of nodes are located on the GCC. This result could be found on social media. Isolated connected component could corresppond to isolated scientist with few co-authoring "
   ]
  },
  {
   "cell_type": "markdown",
   "metadata": {},
   "source": [
    "## 2. Analysis of the degree distribution"
   ]
  },
  {
   "cell_type": "markdown",
   "metadata": {},
   "source": [
    "Here is the statisitcs regarding the degree distribution  : "
   ]
  },
  {
   "cell_type": "code",
   "execution_count": 167,
   "metadata": {},
   "outputs": [
    {
     "name": "stdout",
     "output_type": "stream",
     "text": [
      "The minimum degree of the nodes of the graph :  1\n",
      "The maximun degree of the nodes of the graph :  81\n",
      "The mean degree of the nodes of the graph :  5.53071346814\n",
      "The median degree of the nodes of the graph :  3.0\n"
     ]
    }
   ],
   "source": [
    "from statistics import mean, median\n",
    "min_G=min(dict(graph.degree).values())\n",
    "max_G =max(dict(graph.degree).values())\n",
    "mean_G= mean(dict(graph.degree).values())\n",
    "median_G=median(dict(graph.degree).values())\n",
    "\n",
    "print \"The minimum degree of the nodes of the graph : \", min_G\n",
    "print \"The maximun degree of the nodes of the graph : \", max_G\n",
    "print \"The mean degree of the nodes of the graph : \", mean_G\n",
    "print \"The median degree of the nodes of the graph : \", median_G\n"
   ]
  },
  {
   "cell_type": "markdown",
   "metadata": {},
   "source": [
    "On average an autor has co-written with 6 other autors and the median express that 50% of autors had 3 or less co-autors which was expected. "
   ]
  },
  {
   "cell_type": "code",
   "execution_count": 168,
   "metadata": {},
   "outputs": [
    {
     "name": "stdout",
     "output_type": "stream",
     "text": [
      "{1: 1196, 2: 1114, 3: 775, 4: 497, 5: 299, 6: 225, 7: 159, 8: 141, 9: 98, 10: 92, 11: 66, 12: 46, 13: 58, 14: 38, 15: 48, 16: 25, 17: 43, 18: 20, 19: 19, 20: 28, 21: 16, 22: 12, 23: 44, 24: 8, 25: 8, 26: 7, 27: 3, 28: 5, 29: 3, 30: 8, 31: 9, 32: 3, 33: 9, 34: 37, 35: 1, 36: 2, 37: 5, 38: 1, 40: 1, 41: 3, 42: 19, 43: 2, 44: 1, 45: 13, 46: 2, 47: 4, 48: 3, 49: 4, 51: 2, 53: 1, 54: 1, 55: 1, 56: 3, 57: 1, 59: 1, 60: 1, 62: 1, 63: 1, 65: 1, 66: 1, 67: 1, 68: 2, 77: 2, 79: 1, 81: 1}\n"
     ]
    }
   ],
   "source": [
    "distrib_degree=count_element(dict(graph.degree).values())\n",
    "print (distrib_degree)"
   ]
  },
  {
   "cell_type": "code",
   "execution_count": 169,
   "metadata": {},
   "outputs": [
    {
     "data": {
      "image/png": "[encoded data removed]",
      "text/plain": [
       "<Figure size 432x288 with 1 Axes>"
      ]
     },
     "metadata": {
      "needs_background": "light"
     },
     "output_type": "display_data"
    }
   ],
   "source": [
    "plt.figure()\n",
    "plt.plot(distrib_degree.keys(), distrib_degree.values(), 'go')\n",
    "plt.xlabel(\"Degree of the node\")\n",
    "plt.ylabel(\"Number of nodes concernec\")\n",
    "plt.title(\"degree distribution of the graph\")\n",
    "plt.show()"
   ]
  },
  {
   "cell_type": "code",
   "execution_count": 170,
   "metadata": {},
   "outputs": [
    {
     "data": {
      "image/png": "[encoded data removed]",
      "text/plain": [
       "<Figure size 432x288 with 1 Axes>"
      ]
     },
     "metadata": {
      "needs_background": "light"
     },
     "output_type": "display_data"
    }
   ],
   "source": [
    "plt.figure()\n",
    "plt.plot(distrib_degree.keys(), distrib_degree.values(), 'go')\n",
    "plt.xscale(\"log\")\n",
    "plt.yscale(\"log\")\n",
    "plt.xlabel(\"Log of Degree of the node\")\n",
    "plt.ylabel(\"Log of Number of nodes concerned\")\n",
    "plt.title(\"Log/log degree distribution of the graph\")\n",
    "plt.show()"
   ]
  },
  {
   "cell_type": "code",
   "execution_count": 171,
   "metadata": {},
   "outputs": [],
   "source": [
    "def regression_degree (dictio):\n",
    "    degree=dictio.keys()\n",
    "    nbr=dictio.values()\n",
    "    log_degree=np.log(degree)\n",
    "    log_nbr=np.log(nbr)\n",
    "    reg=np.polyfit(log_degree,log_nbr,1)\n",
    "    log_a = reg[1]\n",
    "    betta = -reg[0]\n",
    "    regress = lambda k: exp(log_a)*k**-betta\n",
    "    a=exp(log_a)\n",
    "    return regress,a,betta\n",
    "\n"
   ]
  },
  {
   "cell_type": "code",
   "execution_count": 172,
   "metadata": {},
   "outputs": [
    {
     "data": {
      "image/png": "[encoded data removed]",
      "text/plain": [
       "<Figure size 432x288 with 1 Axes>"
      ]
     },
     "metadata": {
      "needs_background": "light"
     },
     "output_type": "display_data"
    }
   ],
   "source": [
    "function, a,betta=regression_degree(distrib_degree)\n",
    "\n",
    "plt.figure()\n",
    "plt.plot(distrib_degree.keys(), distrib_degree.values(), 'go')\n",
    "plt.plot(distrib_degree.keys(),function(distrib_degree.keys()),'r')\n",
    "plt.xscale(\"log\")\n",
    "plt.yscale(\"log\")\n",
    "plt.xlabel(\"Log of Degree of the node\")\n",
    "plt.ylabel(\"Log of Number of nodes concerned\")\n",
    "plt.title(\"Log/log degree distribution of the graph\")\n",
    "plt.show()"
   ]
  },
  {
   "cell_type": "markdown",
   "metadata": {},
   "source": [
    "The distribution is a power-law distribution as shown by the log-log graph and we can suppose that the number $N_{k}$ of node having a degree $k$ could be approximated by : $N_{k}=ak^{\\alpha}$  whith a and alpha beiing : "
   ]
  },
  {
   "cell_type": "code",
   "execution_count": 173,
   "metadata": {},
   "outputs": [
    {
     "name": "stdout",
     "output_type": "stream",
     "text": [
      " a =  6610.35572874  and alpha =  2.041777733897052\n"
     ]
    }
   ],
   "source": [
    "print \" a = \", a, \" and alpha = \", betta "
   ]
  },
  {
   "cell_type": "markdown",
   "metadata": {},
   "source": [
    "## 3. Triangles"
   ]
  },
  {
   "cell_type": "code",
   "execution_count": 174,
   "metadata": {},
   "outputs": [
    {
     "name": "stdout",
     "output_type": "stream",
     "text": [
      "total number of triangles in the GCC of the network :  47779\n"
     ]
    }
   ],
   "source": [
    "print \"total number of triangles in the GCC of the network : \", sum(nx.triangles(GCC).values())/3"
   ]
  },
  {
   "cell_type": "code",
   "execution_count": 175,
   "metadata": {},
   "outputs": [
    {
     "data": {
      "image/png": "[encoded data removed]",
      "text/plain": [
       "<Figure size 432x288 with 1 Axes>"
      ]
     },
     "metadata": {
      "needs_background": "light"
     },
     "output_type": "display_data"
    }
   ],
   "source": [
    "plt.hist(nx.triangles(GCC).values())\n",
    "plt.xlabel('Number of triangles involving the node')\n",
    "plt.ylabel('Number of nodes')\n",
    "plt.title('Triangle Distribution')\n",
    "plt.show()"
   ]
  },
  {
   "cell_type": "markdown",
   "metadata": {},
   "source": [
    "This representation shows that the majority of nodes are involved in less than 100 triangles "
   ]
  },
  {
   "cell_type": "markdown",
   "metadata": {},
   "source": [
    "## 4. Spectral counting of triangles"
   ]
  },
  {
   "cell_type": "code",
   "execution_count": 176,
   "metadata": {},
   "outputs": [],
   "source": [
    "Adgency_GCC = nx.to_numpy_matrix(GCC)"
   ]
  },
  {
   "cell_type": "code",
   "execution_count": 177,
   "metadata": {},
   "outputs": [],
   "source": [
    "from numpy import linalg as LA\n",
    "eigenvalues = LA.eigvals(Adgency_GCC)"
   ]
  },
  {
   "cell_type": "code",
   "execution_count": 178,
   "metadata": {},
   "outputs": [],
   "source": [
    "def number_triangle (eigenvalues):\n",
    "    total_nbr = 0\n",
    "    liste_value = []\n",
    "    number_triangle_ii = [float(eigen**3) / 6 for eigen in eigvalues]\n",
    "    for eigen in number_triangle_ii:\n",
    "        total_nbr += eigen\n",
    "        liste_value.append(total_nbr)\n",
    "    return liste_value\n",
    "    "
   ]
  },
  {
   "cell_type": "code",
   "execution_count": 179,
   "metadata": {},
   "outputs": [
    {
     "name": "stderr",
     "output_type": "stream",
     "text": [
      "/Users/lazraq/anaconda2/lib/python2.7/site-packages/ipykernel_launcher.py:4: ComplexWarning: Casting complex values to real discards the imaginary part\n",
      "  after removing the cwd from sys.path.\n"
     ]
    },
    {
     "data": {
      "text/plain": [
       "[15820.465662098663,\n",
       " 25054.140290111463,\n",
       " 31608.945809330995,\n",
       " 33637.80135039348,\n",
       " 35533.025586870695,\n",
       " 36926.554482427346,\n",
       " 37863.93072800899,\n",
       " 38637.94597830183,\n",
       " 39200.94604897213,\n",
       " 39747.03375394061,\n",
       " 40212.41936526725,\n",
       " 40610.446504643245,\n",
       " 40952.54069232271,\n",
       " 41254.32420108388,\n",
       " 41543.042653945704,\n",
       " 41779.352260924075,\n",
       " 42001.04710590101,\n",
       " 42173.51781717013,\n",
       " 42332.35217250345,\n",
       " 42482.810396847985,\n",
       " 42625.4618665171,\n",
       " 42764.6307462,\n",
       " 42897.50043687729,\n",
       " 43027.269303022294,\n",
       " 43155.299100674616,\n",
       " 43274.699413873735,\n",
       " 43390.75175782975,\n",
       " 43503.4269911749,\n",
       " 43613.71527187885,\n",
       " 43719.148873745544,\n",
       " 43820.177089991834,\n",
       " 43919.197862127105,\n",
       " 44013.40096948501,\n",
       " 44106.35289365231,\n",
       " 44195.80718261133,\n",
       " 44283.73763967815,\n",
       " 44371.0762109189,\n",
       " 44456.55580384879,\n",
       " 44538.269274975755,\n",
       " 44616.40746423314,\n",
       " 44692.55430421704,\n",
       " 44627.51355470805,\n",
       " 44563.396452969864,\n",
       " 44637.72663208105,\n",
       " 44711.04189768625,\n",
       " 44783.53870485002,\n",
       " 44852.855865474805,\n",
       " 44921.016528233886,\n",
       " 44988.38450074269,\n",
       " 45054.86849199678,\n",
       " 45120.109046073216,\n",
       " 45184.647217165424,\n",
       " 45247.47390648494,\n",
       " 45310.17512290409,\n",
       " 45372.77695220552,\n",
       " 45434.49972084343,\n",
       " 45494.96190028262,\n",
       " 45553.896544439755,\n",
       " 45611.94225655777,\n",
       " 45668.83443113025,\n",
       " 45725.26280379054,\n",
       " 45779.93268604174,\n",
       " 45834.737387185196,\n",
       " 45785.325995326275,\n",
       " 45737.06600527875,\n",
       " 45694.85871159579,\n",
       " 45747.78742042967,\n",
       " 45707.88137951041,\n",
       " 45668.85814526967,\n",
       " 45720.51922110528,\n",
       " 45682.48014274922,\n",
       " 45733.028038734534,\n",
       " 45781.97152436134,\n",
       " 45830.39790183801,\n",
       " 45878.24120353144,\n",
       " 45925.61503095184,\n",
       " 45971.74033512419,\n",
       " 46016.657083165104,\n",
       " 46061.09572489416,\n",
       " 46104.94954243618,\n",
       " 46147.87577935554,\n",
       " 46190.59665157717,\n",
       " 46232.34908190766,\n",
       " 46273.75896683301,\n",
       " 46237.52229666465,\n",
       " 46203.43185933773,\n",
       " 46170.71859318692,\n",
       " 46211.15139665845,\n",
       " 46251.3844358632,\n",
       " 46291.29080288243,\n",
       " 46330.97918508901,\n",
       " 46370.387129494375,\n",
       " 46408.97202793273,\n",
       " 46446.9627338368,\n",
       " 46484.07979144521,\n",
       " 46520.96528706354,\n",
       " 46557.351085827635,\n",
       " 46593.0254644467,\n",
       " 46628.317084284805,\n",
       " 46663.03427780953,\n",
       " 46698.15629994544,\n",
       " 46733.19104490089,\n",
       " 46702.084695741105,\n",
       " 46672.707578462956,\n",
       " 46643.44222279252,\n",
       " 46615.152874036205,\n",
       " 46587.35782694664,\n",
       " 46560.26219658936,\n",
       " 46594.06974859114,\n",
       " 46627.637323315794,\n",
       " 46660.81938915471,\n",
       " 46693.467844367566,\n",
       " 46725.85481695891,\n",
       " 46757.78920048182,\n",
       " 46788.83384249369,\n",
       " 46818.82498883863,\n",
       " 46849.58459055575,\n",
       " 46880.26897622196,\n",
       " 46854.08614563864,\n",
       " 46828.11117439387,\n",
       " 46803.249230979716,\n",
       " 46778.749551357374,\n",
       " 46808.8953608803,\n",
       " 46838.03118164922,\n",
       " 46867.26240396468,\n",
       " 46895.81984954916,\n",
       " 46923.92328050503,\n",
       " 46951.94637811887,\n",
       " 46979.47869372423,\n",
       " 47006.603139796905,\n",
       " 47033.599407395726,\n",
       " 47060.21575609188,\n",
       " 47086.766947136595,\n",
       " 47063.46772442071,\n",
       " 47040.82634749207,\n",
       " 47018.62682598853,\n",
       " 46996.83655583541,\n",
       " 46975.40300825137,\n",
       " 47001.75371437209,\n",
       " 47027.63648675159,\n",
       " 47053.17471803145,\n",
       " 47078.34656711486,\n",
       " 47103.23395725977,\n",
       " 47127.99753296805,\n",
       " 47152.64272653411,\n",
       " 47177.02300227209,\n",
       " 47201.20426534078,\n",
       " 47179.95815076895,\n",
       " 47159.22781020054,\n",
       " 47138.660608899234,\n",
       " 47162.63830646558,\n",
       " 47186.3571299046,\n",
       " 47209.70470944879,\n",
       " 47232.830477444884,\n",
       " 47255.87921293085,\n",
       " 47278.32216701599,\n",
       " 47300.92738823345,\n",
       " 47323.576639874496,\n",
       " 47303.71478440257,\n",
       " 47284.03185933322,\n",
       " 47265.1699887339,\n",
       " 47246.41319084113,\n",
       " 47227.95441128306,\n",
       " 47250.018628590056,\n",
       " 47272.11410691977,\n",
       " 47293.70828690263,\n",
       " 47315.05954159559,\n",
       " 47336.23872025268,\n",
       " 47357.41320680273,\n",
       " 47339.4464998872,\n",
       " 47321.904623659124,\n",
       " 47304.61910575653,\n",
       " 47325.30341720779,\n",
       " 47345.603042124756,\n",
       " 47366.15664967358,\n",
       " 47386.64586285177,\n",
       " 47407.16116486214,\n",
       " 47427.072883333276,\n",
       " 47447.06415731892,\n",
       " 47466.779151297465,\n",
       " 47449.76683709421,\n",
       " 47432.820005008856,\n",
       " 47416.15802209767,\n",
       " 47436.991355431004,\n",
       " 47456.486691973456,\n",
       " 47475.820732497916,\n",
       " 47495.01019917781,\n",
       " 47514.07533682866,\n",
       " 47532.94409295574,\n",
       " 47551.645776551064,\n",
       " 47535.22372230133,\n",
       " 47519.02980230841,\n",
       " 47503.056133634054,\n",
       " 47487.31661881467,\n",
       " 47471.63132994666,\n",
       " 47456.22693746035,\n",
       " 47474.853473703646,\n",
       " 47493.34900738917,\n",
       " 47511.625570909935,\n",
       " 47529.71104561557,\n",
       " 47547.62701892792,\n",
       " 47565.45693826501,\n",
       " 47583.15993024974,\n",
       " 47600.77160015217,\n",
       " 47617.20078466405,\n",
       " 47633.68262598253,\n",
       " 47650.27535498026,\n",
       " 47667.01375850882,\n",
       " 47683.802648719444,\n",
       " 47700.856939495956,\n",
       " 47718.05269715221,\n",
       " 47735.499029819126,\n",
       " 47752.93039007408,\n",
       " 47737.65371607781,\n",
       " 47722.50690601405,\n",
       " 47707.60322680627,\n",
       " 47693.145963962044,\n",
       " 47678.886509753065,\n",
       " 47664.75057520966,\n",
       " 47650.683183707515,\n",
       " 47636.652202369325,\n",
       " 47622.876910514955,\n",
       " 47609.25307299081,\n",
       " 47595.858702743644,\n",
       " 47582.663660008555,\n",
       " 47569.53481238151,\n",
       " 47556.55888127082,\n",
       " 47543.72088467128,\n",
       " 47559.84330713089,\n",
       " 47575.8370052055,\n",
       " 47591.73869751719,\n",
       " 47579.11016599533,\n",
       " 47566.54294287401,\n",
       " 47554.1746477035,\n",
       " 47541.89591620716,\n",
       " 47557.538997084856,\n",
       " 47573.020130479,\n",
       " 47588.41516087514,\n",
       " 47603.70839146433,\n",
       " 47619.0122010023,\n",
       " 47607.03499231179,\n",
       " 47595.15542187304,\n",
       " 47583.370029009355,\n",
       " 47571.649553023875,\n",
       " 47560.126162429915,\n",
       " 47548.63878679149,\n",
       " 47563.68477851377,\n",
       " 47578.69179635329,\n",
       " 47593.64018605763,\n",
       " 47608.49719715415,\n",
       " 47623.23058909764,\n",
       " 47637.79913193878,\n",
       " 47652.29614241909,\n",
       " 47640.94538191018,\n",
       " 47629.70960833411,\n",
       " 47618.561358275234,\n",
       " 47607.45615386343,\n",
       " 47596.58589330036,\n",
       " 47585.64967673896,\n",
       " 47599.99283178011,\n",
       " 47614.26669001751,\n",
       " 47628.45264068419,\n",
       " 47642.53167579199,\n",
       " 47656.64121917857,\n",
       " 47670.50609460494,\n",
       " 47684.162916969486,\n",
       " 47697.75922546541,\n",
       " 47711.26041859934,\n",
       " 47724.69584069932,\n",
       " 47738.08638095527,\n",
       " 47727.35420483781,\n",
       " 47740.58403272156,\n",
       " 47730.01338080822,\n",
       " 47719.38329898809,\n",
       " 47732.43991204525,\n",
       " 47745.44179055984,\n",
       " 47758.396303582726,\n",
       " 47747.975826521084,\n",
       " 47737.625916402736,\n",
       " 47727.320207333214,\n",
       " 47740.063180361365,\n",
       " 47752.78883083487,\n",
       " 47742.58928599426,\n",
       " 47732.48424439054,\n",
       " 47722.45834851534,\n",
       " 47735.060422057366,\n",
       " 47747.58900918063,\n",
       " 47760.0508241697,\n",
       " 47750.13618188695,\n",
       " 47740.28047425569,\n",
       " 47730.54193859705,\n",
       " 47742.91138845746,\n",
       " 47755.22238722717,\n",
       " 47767.47640482904,\n",
       " 47757.85086159275,\n",
       " 47748.33349204438,\n",
       " 47738.80424859454,\n",
       " 47750.89744220511,\n",
       " 47763.051732431966,\n",
       " 47774.9557899301,\n",
       " 47786.82826803561,\n",
       " 47798.55868801104,\n",
       " 47810.31967152644,\n",
       " 47800.90064661165,\n",
       " 47791.54887057074,\n",
       " 47782.360147496845,\n",
       " 47773.16566759663,\n",
       " 47764.09558180276,\n",
       " 47755.08506230141,\n",
       " 47766.68154527391,\n",
       " 47778.24163629729,\n",
       " 47789.71232300029,\n",
       " 47800.84243689308,\n",
       " 47812.11066366754,\n",
       " 47823.48823125859,\n",
       " 47834.816132761305,\n",
       " 47846.171501255914,\n",
       " 47857.193815759405,\n",
       " 47848.214344500295,\n",
       " 47859.16766768508,\n",
       " 47870.177508529094,\n",
       " 47861.282645260355,\n",
       " 47852.4878781165,\n",
       " 47863.18818441939,\n",
       " 47874.04309616452,\n",
       " 47884.842387750614,\n",
       " 47895.6654074918,\n",
       " 47886.90739414206,\n",
       " 47878.234215027995,\n",
       " 47888.76916905727,\n",
       " 47899.24676290074,\n",
       " 47909.68971939302,\n",
       " 47901.06828601539,\n",
       " 47892.573033462235,\n",
       " 47884.103888756355,\n",
       " 47875.72792855301,\n",
       " 47867.38235088171,\n",
       " 47877.74250170858,\n",
       " 47888.03578567298,\n",
       " 47898.190267771875,\n",
       " 47908.29967378924,\n",
       " 47918.38755066568,\n",
       " 47928.38467140346,\n",
       " 47938.359401610964,\n",
       " 47948.189123884076,\n",
       " 47958.073029173844,\n",
       " 47949.79440302956,\n",
       " 47959.572808201454,\n",
       " 47951.40172408903,\n",
       " 47943.1580901943,\n",
       " 47952.785492479066,\n",
       " 47962.44198357817,\n",
       " 47972.093795502464,\n",
       " 47963.95156305969,\n",
       " 47973.45254521899,\n",
       " 47983.002904426976,\n",
       " 47992.53987011035,\n",
       " 48001.931233306146,\n",
       " 48011.24902970858,\n",
       " 48020.52325835568,\n",
       " 48029.74404240405,\n",
       " 48038.91408660693,\n",
       " 48047.23899562035,\n",
       " 48055.68835415556,\n",
       " 48064.751289797765,\n",
       " 48073.273676429235,\n",
       " 48081.80602358099,\n",
       " 48090.451005717885,\n",
       " 48099.49202084631,\n",
       " 48108.469554780335,\n",
       " 48117.411737054,\n",
       " 48126.314473848746,\n",
       " 48135.14446759531,\n",
       " 48143.88941033055,\n",
       " 48152.64357715984,\n",
       " 48160.871657975455,\n",
       " 48169.2592261074,\n",
       " 48177.3173801507,\n",
       " 48185.42391106864,\n",
       " 48193.54046794077,\n",
       " 48201.72156439629,\n",
       " 48193.65834187664,\n",
       " 48185.66587179451,\n",
       " 48177.70750774329,\n",
       " 48169.83849608941,\n",
       " 48162.01884790124,\n",
       " 48154.30127411739,\n",
       " 48146.53069135936,\n",
       " 48139.0020121227,\n",
       " 48131.559124337284,\n",
       " 48124.12911248382,\n",
       " 48116.74781068692,\n",
       " 48109.383828479906,\n",
       " 48102.08833204289,\n",
       " 48094.84868066617,\n",
       " 48087.659926474626,\n",
       " 48080.4905853798,\n",
       " 48073.36702968711,\n",
       " 48066.25097667956,\n",
       " 48059.212607127534,\n",
       " 48052.19493987509,\n",
       " 48045.201521005634,\n",
       " 48038.31240371344,\n",
       " 48031.486389038786,\n",
       " 48024.67952515516,\n",
       " 48017.91061669073,\n",
       " 48011.188005124815,\n",
       " 48004.52726775977,\n",
       " 47998.020366411685,\n",
       " 47991.47913777889,\n",
       " 47984.93524650359,\n",
       " 47978.50177776886,\n",
       " 47972.08224305275,\n",
       " 47965.655748554665,\n",
       " 47959.47450092791,\n",
       " 47953.16943448459,\n",
       " 47946.93238985599,\n",
       " 47940.639331578386,\n",
       " 47948.615022186896,\n",
       " 47956.55328033119,\n",
       " 47964.4316772314,\n",
       " 47972.21595672377,\n",
       " 47979.86920212114,\n",
       " 47987.59212599006,\n",
       " 47995.31201887059,\n",
       " 48002.90712491268,\n",
       " 47996.77577704487,\n",
       " 47990.69019814669,\n",
       " 47998.19634753372,\n",
       " 48005.6849406011,\n",
       " 48013.08474936847,\n",
       " 48007.03728940342,\n",
       " 48001.035470441115,\n",
       " 47995.06740402786,\n",
       " 48002.42995623667,\n",
       " 48009.711662303525,\n",
       " 48016.841003035246,\n",
       " 48024.068256096594,\n",
       " 48031.27747159436,\n",
       " 48038.350974641835,\n",
       " 48032.44424324379,\n",
       " 48026.56841098186,\n",
       " 48020.730966841664,\n",
       " 48014.92766195389,\n",
       " 48009.157991824824,\n",
       " 48003.51015695741,\n",
       " 47997.80517085034,\n",
       " 47992.11696034213,\n",
       " 47986.50296791662,\n",
       " 47993.50412132457,\n",
       " 48000.494242652414,\n",
       " 47994.92081225942,\n",
       " 48001.844708199125,\n",
       " 48008.71267811257,\n",
       " 48015.600113497174,\n",
       " 48010.08925586985,\n",
       " 48004.60665992885,\n",
       " 47999.284659484896,\n",
       " 48006.130010118075,\n",
       " 48012.948719380096,\n",
       " 48019.71706536203,\n",
       " 48026.51881289058,\n",
       " 48033.22500159175,\n",
       " 48027.8709042212,\n",
       " 48022.42157211023,\n",
       " 48016.98587348625,\n",
       " 48011.59330043288,\n",
       " 48006.188599940106,\n",
       " 48012.87763023092,\n",
       " 48019.537314946945,\n",
       " 48026.163397740434,\n",
       " 48032.686950736,\n",
       " 48039.27207492112,\n",
       " 48045.84239767881,\n",
       " 48052.295656816015,\n",
       " 48058.724553785556,\n",
       " 48065.13192035897,\n",
       " 48071.508691669915,\n",
       " 48077.79632956385,\n",
       " 48084.0084076304,\n",
       " 48090.27631369007,\n",
       " 48096.454631946166,\n",
       " 48102.59144523306,\n",
       " 48108.68708840011,\n",
       " 48114.74874825548,\n",
       " 48120.52061301648,\n",
       " 48126.32729650044,\n",
       " 48132.181152022014,\n",
       " 48138.03790997409,\n",
       " 48144.03886245295,\n",
       " 48150.018929164406,\n",
       " 48155.93116403913,\n",
       " 48161.86011973138,\n",
       " 48167.804555796545,\n",
       " 48173.507478011576,\n",
       " 48179.24567595987,\n",
       " 48184.97475869209,\n",
       " 48190.61117411497,\n",
       " 48196.2143871147,\n",
       " 48201.78672662484,\n",
       " 48207.28084692487,\n",
       " 48212.80552224598,\n",
       " 48217.65192204993,\n",
       " 48222.524247673864,\n",
       " 48227.71437380012,\n",
       " 48232.956639010685,\n",
       " 48238.41459875569,\n",
       " 48243.75570212839,\n",
       " 48249.06270849187,\n",
       " 48254.360317548206,\n",
       " 48259.71777522801,\n",
       " 48265.15810576254,\n",
       " 48270.56003346203,\n",
       " 48275.96600866177,\n",
       " 48280.89342308532,\n",
       " 48285.8804870316,\n",
       " 48290.92129227965,\n",
       " 48295.88499028116,\n",
       " 48300.82285824361,\n",
       " 48305.76957514245,\n",
       " 48310.83307180679,\n",
       " 48315.936357792016,\n",
       " 48321.05316718935,\n",
       " 48326.215499961894,\n",
       " 48331.36072648625,\n",
       " 48336.49797055741,\n",
       " 48331.23429635425,\n",
       " 48326.01501120572,\n",
       " 48320.831693519154,\n",
       " 48315.687777478495,\n",
       " 48310.55204594339,\n",
       " 48305.44613799364,\n",
       " 48300.356818202796,\n",
       " 48295.29704382753,\n",
       " 48290.24398988284,\n",
       " 48285.27193402085,\n",
       " 48280.2675374558,\n",
       " 48275.27976092471,\n",
       " 48270.344002100435,\n",
       " 48265.42563236444,\n",
       " 48260.541848403125,\n",
       " 48255.67760311634,\n",
       " 48250.845236540896,\n",
       " 48246.03483440148,\n",
       " 48241.34577422114,\n",
       " 48236.61270251355,\n",
       " 48231.892141639444,\n",
       " 48227.18685242907,\n",
       " 48222.52669115018,\n",
       " 48217.90127547706,\n",
       " 48213.308426095464,\n",
       " 48208.74191684236,\n",
       " 48204.18815257026,\n",
       " 48199.64832042585,\n",
       " 48195.13334850081,\n",
       " 48190.64450986135,\n",
       " 48186.18209570077,\n",
       " 48181.750092173024,\n",
       " 48177.36307463786,\n",
       " 48172.96034783093,\n",
       " 48168.5952774271,\n",
       " 48164.28645353533,\n",
       " 48159.99547523767,\n",
       " 48155.72739643425,\n",
       " 48151.5622911171,\n",
       " 48147.37687428891,\n",
       " 48143.12643519349,\n",
       " 48138.89854094078,\n",
       " 48134.679235515105,\n",
       " 48130.531834255984,\n",
       " 48126.4153566113,\n",
       " 48122.310461652945,\n",
       " 48118.25462198907,\n",
       " 48114.18176182919,\n",
       " 48110.11467910232,\n",
       " 48115.0059317602,\n",
       " 48119.82245369293,\n",
       " 48124.60689750082,\n",
       " 48129.26025423305,\n",
       " 48133.925503162485,\n",
       " 48138.61221872729,\n",
       " 48143.36989371953,\n",
       " 48148.098789126234,\n",
       " 48152.83284831766,\n",
       " 48148.845466493076,\n",
       " 48144.92129356281,\n",
       " 48149.56437106273,\n",
       " 48154.15553502789,\n",
       " 48158.71831978123,\n",
       " 48154.74236901937,\n",
       " 48150.78707257635,\n",
       " 48146.846237454105,\n",
       " 48142.90215558149,\n",
       " 48147.4527183385,\n",
       " 48151.978287785954,\n",
       " 48156.477742353454,\n",
       " 48160.926533596146,\n",
       " 48165.314307782006,\n",
       " 48169.71333545301,\n",
       " 48174.13653800786,\n",
       " 48178.46288443387,\n",
       " 48182.702849961315,\n",
       " 48186.99908030933,\n",
       " 48191.27855266265,\n",
       " 48195.554274828275,\n",
       " 48199.82052890728,\n",
       " 48204.0226179738,\n",
       " 48208.21637437135,\n",
       " 48212.39602912148,\n",
       " 48216.55314610837,\n",
       " 48220.662610053325,\n",
       " 48224.60997051143,\n",
       " 48228.59282448092,\n",
       " 48232.59824362005,\n",
       " 48236.68708313421,\n",
       " 48240.75724366848,\n",
       " 48244.81418130646,\n",
       " 48248.86083625458,\n",
       " 48252.778145021046,\n",
       " 48256.75055078991,\n",
       " 48260.63873094553,\n",
       " 48264.476772797716,\n",
       " 48268.3065289601,\n",
       " 48272.2346356332,\n",
       " 48275.528399273004,\n",
       " 48278.85132512669,\n",
       " 48282.19093991231,\n",
       " 48285.866550805345,\n",
       " 48289.617635270915,\n",
       " 48293.33320708909,\n",
       " 48297.05257923727,\n",
       " 48300.826181206954,\n",
       " 48304.62524704438,\n",
       " 48308.42056309582,\n",
       " 48311.80508555233,\n",
       " 48315.45649370076,\n",
       " 48319.069384861235,\n",
       " 48322.5102269742,\n",
       " 48326.0104526769,\n",
       " 48329.489237697424,\n",
       " 48333.084224750964,\n",
       " 48336.505229789356,\n",
       " 48339.96192569691,\n",
       " 48343.381661868276,\n",
       " 48346.95984485733,\n",
       " 48350.53442602451,\n",
       " 48354.06537343474,\n",
       " 48357.58298158283,\n",
       " 48361.125730554544,\n",
       " 48364.67349311135,\n",
       " 48360.79144005057,\n",
       " 48356.934243825024,\n",
       " 48353.085639292396,\n",
       " 48349.266210429996,\n",
       " 48345.43780996196,\n",
       " 48341.63152371425,\n",
       " 48337.86557162683,\n",
       " 48334.11566544348,\n",
       " 48330.37649322004,\n",
       " 48326.66335365852,\n",
       " 48322.9693344787,\n",
       " 48319.28831555604,\n",
       " 48315.647084573364,\n",
       " 48311.98207951757,\n",
       " 48308.3475051657,\n",
       " 48304.72972794967,\n",
       " 48301.13145371219,\n",
       " 48297.562087680795,\n",
       " 48294.00557910836,\n",
       " 48290.45817164145,\n",
       " 48286.91666346272,\n",
       " 48283.46286396958,\n",
       " 48279.991417878606,\n",
       " 48276.49110477033,\n",
       " 48273.05815209859,\n",
       " 48269.64754776134,\n",
       " 48266.24651743785,\n",
       " 48269.565225460196,\n",
       " 48272.82281255853,\n",
       " 48276.048578754424,\n",
       " 48279.25943001614,\n",
       " 48282.44489697199,\n",
       " 48285.61524823578,\n",
       " 48288.772495411504,\n",
       " 48285.3836239434,\n",
       " 48282.034970459325,\n",
       " 48278.699039998675,\n",
       " 48275.3746063482,\n",
       " 48272.062617245465,\n",
       " 48268.76012391716,\n",
       " 48265.47020073886,\n",
       " 48268.576377762074,\n",
       " 48271.70015620981,\n",
       " 48274.83156854704,\n",
       " 48277.90262405151,\n",
       " 48280.96550293686,\n",
       " 48277.69618958256,\n",
       " 48274.43694240625,\n",
       " 48271.18102595482,\n",
       " 48267.94595950379,\n",
       " 48264.719006155945,\n",
       " 48261.506877316715,\n",
       " 48258.30933264054,\n",
       " 48255.1210944685,\n",
       " 48251.94087155989,\n",
       " 48254.966677462675,\n",
       " 48258.01253175956,\n",
       " 48261.066520253786,\n",
       " 48263.96835989338,\n",
       " 48266.906128685325,\n",
       " 48269.84892987296,\n",
       " 48272.83645696334,\n",
       " 48275.813576480214,\n",
       " 48278.79634430167,\n",
       " 48275.63686674718,\n",
       " 48272.49905041862,\n",
       " 48269.368820402284,\n",
       " 48272.23001448099,\n",
       " 48275.07472664596,\n",
       " 48277.90945197454,\n",
       " 48280.72089631883,\n",
       " 48283.519856873296,\n",
       " 48286.252182637276,\n",
       " 48288.997080738445,\n",
       " 48291.75328955196,\n",
       " 48288.775053107915,\n",
       " 48285.78257560562,\n",
       " 48282.66233562551,\n",
       " 48279.60776762885,\n",
       " 48276.55957827958,\n",
       " 48273.46374079712,\n",
       " 48270.37734196515,\n",
       " 48267.28821599285,\n",
       " 48269.997755788034,\n",
       " 48272.68208720337,\n",
       " 48275.320204771044,\n",
       " 48277.93796257736,\n",
       " 48280.53968145034,\n",
       " 48277.4719320341,\n",
       " 48274.45018702408,\n",
       " 48271.4405949245,\n",
       " 48268.39976883188,\n",
       " 48265.38891130322,\n",
       " 48267.76085118594,\n",
       " 48270.32839048538,\n",
       " 48272.76843500184,\n",
       " 48275.17422497761,\n",
       " 48277.5596471014,\n",
       " 48280.10773561482,\n",
       " 48282.49629154607,\n",
       " 48285.12794245216,\n",
       " 48287.80444702329,\n",
       " 48290.48202917323,\n",
       " 48292.89238203631,\n",
       " 48295.453927448536,\n",
       " 48297.91401375287,\n",
       " 48300.43166404837,\n",
       " 48302.93378705429,\n",
       " 48305.44270483019,\n",
       " 48307.92758956274,\n",
       " 48310.40921334191,\n",
       " 48307.44240219367,\n",
       " 48304.49205519093,\n",
       " 48301.55924009746,\n",
       " 48298.65672690821,\n",
       " 48295.75606329245,\n",
       " 48292.87429171385,\n",
       " 48289.98269751913,\n",
       " 48287.115768223026,\n",
       " 48284.269238816,\n",
       " 48281.427123667534,\n",
       " 48278.59767611076,\n",
       " 48275.79567981937,\n",
       " 48273.01060374403,\n",
       " 48270.21740821745,\n",
       " 48267.4442054681,\n",
       " 48264.6856114855,\n",
       " 48261.93260583777,\n",
       " 48259.19359870907,\n",
       " 48256.45970579316,\n",
       " 48253.73063261886,\n",
       " 48251.05739449268,\n",
       " 48248.356624105014,\n",
       " 48245.66349809878,\n",
       " 48242.97418476458,\n",
       " 48240.3109452395,\n",
       " 48237.66811580803,\n",
       " 48235.03021210277,\n",
       " 48232.404409511444,\n",
       " 48229.77323164873,\n",
       " 48227.16948274632,\n",
       " 48224.57368263878,\n",
       " 48221.989139738536,\n",
       " 48219.423665456794,\n",
       " 48216.84855534586,\n",
       " 48214.30138421348,\n",
       " 48216.64328983469,\n",
       " 48218.98288065694,\n",
       " 48221.30443215841,\n",
       " 48223.619307181274,\n",
       " 48225.89837392125,\n",
       " 48228.18342970033,\n",
       " 48230.446018354836,\n",
       " 48232.694003683086,\n",
       " 48234.93333577715,\n",
       " 48232.41564742589,\n",
       " 48229.989911224446,\n",
       " 48227.55392296841,\n",
       " 48225.07156414073,\n",
       " 48222.601781864505,\n",
       " 48220.149780430664,\n",
       " 48217.70612637479,\n",
       " 48215.176649796354,\n",
       " 48212.67955049684,\n",
       " 48210.17685797279,\n",
       " 48212.393321439384,\n",
       " 48209.85255451766,\n",
       " 48207.39248319281,\n",
       " 48204.9658444608,\n",
       " 48207.16696347289,\n",
       " 48209.35030250235,\n",
       " 48211.53104077997,\n",
       " 48213.69849310062,\n",
       " 48215.85874540073,\n",
       " 48218.00320785004,\n",
       " 48220.144021631495,\n",
       " 48222.2737719939,\n",
       " 48224.39271494081,\n",
       " 48226.506038560656,\n",
       " 48228.60418436824,\n",
       " 48230.71145271024,\n",
       " 48232.47758802994,\n",
       " 48234.251976960295,\n",
       " 48236.0370987617,\n",
       " 48238.117234673125,\n",
       " 48240.19112572581,\n",
       " 48242.25642603514,\n",
       " 48244.29664486697,\n",
       " 48246.35857289556,\n",
       " 48248.38818888525,\n",
       " 48250.43456983304,\n",
       " 48252.44350214694,\n",
       " 48254.445361926744,\n",
       " 48256.434745289596,\n",
       " 48258.321162846914,\n",
       " 48260.13540774597,\n",
       " 48261.98196559872,\n",
       " 48263.81892688548,\n",
       " 48265.61427819174,\n",
       " 48267.42143277244,\n",
       " 48269.367105002086,\n",
       " 48271.30303317331,\n",
       " 48273.1299575185,\n",
       " 48275.15438180852,\n",
       " 48277.02619327462,\n",
       " 48279.006972196265,\n",
       " 48280.966011294535,\n",
       " 48282.87163718333,\n",
       " 48284.84047617854,\n",
       " 48286.70149280947,\n",
       " 48288.62302852849,\n",
       " 48290.51785548795,\n",
       " 48292.44396992334,\n",
       " 48294.399612357876,\n",
       " 48296.220011933314,\n",
       " 48298.08201737728,\n",
       " 48295.68031015552,\n",
       " 48293.26999935106,\n",
       " 48290.88721171778,\n",
       " 48288.51095247864,\n",
       " 48286.13091661772,\n",
       " 48283.77609620189,\n",
       " 48281.41332567215,\n",
       " 48279.06150611928,\n",
       " 48276.715715532744,\n",
       " 48274.38606375121,\n",
       " 48272.077224812965,\n",
       " 48269.78140847857,\n",
       " 48267.48136600394,\n",
       " 48265.175050370184,\n",
       " 48262.88677939297,\n",
       " 48260.61095392382,\n",
       " 48258.34847464053,\n",
       " 48256.111129975194,\n",
       " 48253.86375248368,\n",
       " 48251.6142654867,\n",
       " 48249.38927747329,\n",
       " 48247.16833628752,\n",
       " 48244.96141021001,\n",
       " 48242.744160364324,\n",
       " 48244.465437893115,\n",
       " 48246.20641525138,\n",
       " 48247.95679962245,\n",
       " 48249.71238485909,\n",
       " 48247.51062764642,\n",
       " 48245.31751462634,\n",
       " 48243.137786746505,\n",
       " 48240.94843258823,\n",
       " 48238.77674723056,\n",
       " 48236.73110632828,\n",
       " 48234.5920514033,\n",
       " 48232.462651469075,\n",
       " 48234.168823607,\n",
       " 48232.0985143699,\n",
       " 48230.0453756888,\n",
       " 48227.98570295995,\n",
       " 48225.92209611964,\n",
       " 48223.873560022876,\n",
       " 48225.569565343234,\n",
       " 48227.27065273004,\n",
       " 48225.120312558836,\n",
       " 48223.036107800086,\n",
       " 48224.70340444828,\n",
       " 48226.385625599505,\n",
       " 48228.06292463922,\n",
       " 48225.9695961092,\n",
       " 48223.856548908574,\n",
       " 48221.69603032865,\n",
       " 48219.54170505192,\n",
       " 48221.185829554146,\n",
       " 48222.83036523273,\n",
       " 48224.22099959503,\n",
       " 48225.848112038904,\n",
       " 48227.48945481413,\n",
       " 48229.087489039215,\n",
       " 48230.6922673694,\n",
       " 48232.312458875946,\n",
       " 48233.93095129907,\n",
       " 48235.51186453975,\n",
       " 48237.10071050263,\n",
       " 48238.50061785015,\n",
       " 48239.90888869224,\n",
       " 48241.311244238736,\n",
       " 48242.73145245908,\n",
       " 48244.1616407601,\n",
       " 48245.73506243751,\n",
       " 48247.30007825221,\n",
       " 48248.84840091603,\n",
       " 48250.388403209225,\n",
       " 48251.89171030785,\n",
       " 48253.40189493083,\n",
       " 48254.83471282362,\n",
       " 48256.361588091306,\n",
       " 48254.25798552537,\n",
       " 48252.15503958805,\n",
       " 48250.046141740364,\n",
       " 48251.51860712379,\n",
       " 48252.971409465856,\n",
       " 48254.416099117356,\n",
       " 48255.8577050993,\n",
       " 48257.3383271384,\n",
       " 48258.82363598932,\n",
       " 48260.31230123511,\n",
       " 48261.77304021994,\n",
       " 48263.2915838274,\n",
       " 48264.80993578237,\n",
       " 48266.1862548172,\n",
       " 48267.55723203482,\n",
       " 48268.91352427806,\n",
       " 48270.26593886124,\n",
       " 48271.39171160097,\n",
       " 48272.73009283365,\n",
       " 48270.70483311421,\n",
       " 48268.67119537726,\n",
       " 48266.63726838629,\n",
       " 48267.77755279271,\n",
       " 48269.111164632945,\n",
       " 48270.434971851064,\n",
       " 48271.74981977391,\n",
       " 48273.06240794887,\n",
       " 48271.048520835124,\n",
       " 48269.044482744095,\n",
       " 48267.05770256327,\n",
       " 48265.06532840474,\n",
       " 48263.08115664053,\n",
       " 48264.229802624366,\n",
       " 48265.3856161716,\n",
       " 48266.67858208899,\n",
       " 48267.95019364809,\n",
       " 48269.23551987011,\n",
       " 48270.51294333894,\n",
       " 48271.81110905039,\n",
       " 48269.83662990744,\n",
       " 48271.00427877594,\n",
       " 48272.2665651348,\n",
       " 48270.305629532806,\n",
       " 48268.36011534659,\n",
       " 48266.41877387641,\n",
       " 48267.59203860995,\n",
       " 48268.841655399236,\n",
       " 48270.14089488003,\n",
       " 48271.37933507821,\n",
       " 48272.56005909458,\n",
       " 48273.75549558814,\n",
       " 48274.95810961692,\n",
       " 48276.214783064366,\n",
       " 48277.42852250534,\n",
       " 48275.49346534495,\n",
       " 48273.56065653543,\n",
       " 48274.78549991414,\n",
       " ...]"
      ]
     },
     "execution_count": 179,
     "metadata": {},
     "output_type": "execute_result"
    }
   ],
   "source": [
    "liste_value=number_triangle (eigenvalues)\n",
    "liste_value"
   ]
  },
  {
   "cell_type": "code",
   "execution_count": 181,
   "metadata": {},
   "outputs": [
    {
     "name": "stderr",
     "output_type": "stream",
     "text": [
      "/Users/lazraq/anaconda2/lib/python2.7/site-packages/ipykernel_launcher.py:4: ComplexWarning: Casting complex values to real discards the imaginary part\n",
      "  after removing the cwd from sys.path.\n"
     ]
    },
    {
     "data": {
      "image/png": "[encoded data removed]",
      "text/plain": [
       "<Figure size 432x288 with 1 Axes>"
      ]
     },
     "metadata": {
      "needs_background": "light"
     },
     "output_type": "display_data"
    }
   ],
   "source": [
    "liste_value=number_triangle (eigenvalues)\n",
    "error = [float(abs(value - 47779)) / 47779 for value in liste_value]\n",
    "plt.plot(error, label = 'Error', color = 'green')\n",
    "plt.plot([0.03 for i in range(len(liste_value))], color = 'navy', label = '3% error')\n",
    "#plt.xlim(0,1000)\n",
    "plt.legend()\n",
    "plt.title('Error based on numer of eigenvalues taken')\n",
    "plt.xlabel('Number of eigenvalues taken')\n",
    "plt.ylabel('Error (in %)')\n",
    "plt.show()"
   ]
  },
  {
   "cell_type": "markdown",
   "metadata": {},
   "source": [
    "# Question 8"
   ]
  },
  {
   "cell_type": "markdown",
   "metadata": {},
   "source": [
    "## a)"
   ]
  },
  {
   "cell_type": "code",
   "execution_count": 182,
   "metadata": {},
   "outputs": [],
   "source": [
    "graph_random = nx.fast_gnp_random_graph(n=1000, p=0.009)"
   ]
  },
  {
   "cell_type": "code",
   "execution_count": 183,
   "metadata": {},
   "outputs": [
    {
     "name": "stdout",
     "output_type": "stream",
     "text": [
      "Experiemental mean degree of the graph :  9.142\n"
     ]
    }
   ],
   "source": [
    "print \"Experiemental mean degree of the graph : \" , mean(dict(graph_random.degree).values())"
   ]
  },
  {
   "cell_type": "markdown",
   "metadata": {},
   "source": [
    "## b)"
   ]
  },
  {
   "cell_type": "code",
   "execution_count": 185,
   "metadata": {},
   "outputs": [
    {
     "name": "stdout",
     "output_type": "stream",
     "text": [
      "Random graph is connected:  True\n"
     ]
    }
   ],
   "source": [
    "print \"Random graph is connected: \", nx.is_connected(graph_random)"
   ]
  },
  {
   "cell_type": "markdown",
   "metadata": {},
   "source": [
    "## c)"
   ]
  },
  {
   "cell_type": "code",
   "execution_count": 186,
   "metadata": {},
   "outputs": [
    {
     "data": {
      "image/png": "[encoded data removed]",
      "text/plain": [
       "<Figure size 432x288 with 1 Axes>"
      ]
     },
     "metadata": {
      "needs_background": "light"
     },
     "output_type": "display_data"
    }
   ],
   "source": [
    "distrib_degree=count_element(dict(graph_random.degree).values())\n",
    "plt.figure()\n",
    "plt.plot(distrib_degree.keys(), distrib_degree.values(), 'go')\n",
    "plt.xlabel(\"Degree of the node\")\n",
    "plt.ylabel(\"Number of nodes concerned\")\n",
    "plt.title(\"degree distribution of the graph\")\n",
    "plt.show()"
   ]
  },
  {
   "cell_type": "markdown",
   "metadata": {},
   "source": [
    "# Question 9"
   ]
  },
  {
   "cell_type": "markdown",
   "metadata": {},
   "source": [
    "## a)"
   ]
  },
  {
   "cell_type": "code",
   "execution_count": 187,
   "metadata": {},
   "outputs": [],
   "source": [
    "A1 = np.array([[0.99,0.26], [0.26,0.53]])\n",
    "n=int(log(graph.number_of_nodes())/log(2))"
   ]
  },
  {
   "cell_type": "code",
   "execution_count": 188,
   "metadata": {},
   "outputs": [],
   "source": [
    "def produit(A,k):\n",
    "    A_r=A\n",
    "    for i in range (k):\n",
    "        A_r = np.kron(A_r, A)\n",
    "    return A_r\n",
    "\n",
    "def trans(A):\n",
    "    rows = A.shape[0]\n",
    "    col = A.shape[1]\n",
    "    result = np.zeros((rows, col))\n",
    "    for i in range (rows):\n",
    "        for j in range (col):\n",
    "            p=A[i][j]\n",
    "            result[i][j]=np.random.binomial(1,p)\n",
    "    return result "
   ]
  },
  {
   "cell_type": "code",
   "execution_count": 189,
   "metadata": {},
   "outputs": [],
   "source": [
    "A_n= produit(A1,n)"
   ]
  },
  {
   "cell_type": "code",
   "execution_count": null,
   "metadata": {},
   "outputs": [],
   "source": [
    "graph_A_n=nx.from_numpy_matrix(trans(A_n))"
   ]
  },
  {
   "cell_type": "code",
   "execution_count": 131,
   "metadata": {},
   "outputs": [
    {
     "data": {
      "text/plain": [
       "8192"
      ]
     },
     "execution_count": 131,
     "metadata": {},
     "output_type": "execute_result"
    }
   ],
   "source": [
    "len(graph_A_n.nodes)"
   ]
  },
  {
   "cell_type": "code",
   "execution_count": 141,
   "metadata": {},
   "outputs": [
    {
     "name": "stdout",
     "output_type": "stream",
     "text": [
      "The produced Kronecker graph is connected ?  False\n",
      "Giant connected component size =  5979  for n equal to :  8192\n"
     ]
    }
   ],
   "source": [
    "print \"The produced Kronecker graph is connected ? \",nx.is_connected(graph_A_n)\n",
    "GCC_kron=max(nx.connected_component_subgraphs(graph_A_n), key=len)\n",
    "print \"Giant connected component size = \", len(GCC.nodes), \" for n equal to : \", graph_A_n.number_of_nodes()"
   ]
  },
  {
   "cell_type": "markdown",
   "metadata": {},
   "source": [
    "## b)"
   ]
  },
  {
   "cell_type": "markdown",
   "metadata": {},
   "source": [
    "### Connected component size distribution of the Kronecker graph"
   ]
  },
  {
   "cell_type": "code",
   "execution_count": null,
   "metadata": {},
   "outputs": [],
   "source": [
    "liste_prep= nx.connected_components(graph_A_n)\n",
    "liste_extract=[len(element) for element in liste_prep] \n",
    "\n",
    "frequence= count_element(liste_extract)\n",
    "\n",
    "plt.figure()\n",
    "plt.plot(frequence.keys(), frequence.values(), 'go')\n",
    "plt.xlabel(\"Connected Component size\")\n",
    "plt.ylabel(\"Number of CC\")\n",
    "plt.xscale(\"log\")\n",
    "plt.title(\"Connected component size distribution\")\n",
    "plt.show()"
   ]
  },
  {
   "cell_type": "markdown",
   "metadata": {},
   "source": [
    "### Proportion of the GCC nodes and edges on the global graph"
   ]
  },
  {
   "cell_type": "code",
   "execution_count": null,
   "metadata": {
    "scrolled": true
   },
   "outputs": [],
   "source": [
    "print \"largest connected component nodes number : \" , GCC_kron.number_of_nodes()\n",
    "print \"largest connected component edges number : \" , GCC_kron.number_of_edges()\n",
    "print \"fraction of nodes of the whole graph that belong to GCC : \" , GCC_kron.number_of_nodes()/float(graph_A_n.number_of_nodes())*100,\" %\"\n",
    "print \"fraction of edges of the whole graph that belong to GCC : \" , GCC_kron.number_of_edges()/float(graph_A_n.number_of_edges())*100,\" %\""
   ]
  },
  {
   "cell_type": "markdown",
   "metadata": {},
   "source": [
    "### Degree distribution"
   ]
  },
  {
   "cell_type": "code",
   "execution_count": 145,
   "metadata": {},
   "outputs": [],
   "source": [
    "distrib_degree_kron=count_element(dict(graph_A_n.degree).values())"
   ]
  },
  {
   "cell_type": "code",
   "execution_count": 147,
   "metadata": {},
   "outputs": [
    {
     "name": "stdout",
     "output_type": "stream",
     "text": [
      "{0: 1809, 1: 1835, 2: 1407, 3: 1043, 4: 639, 5: 442, 6: 300, 7: 188, 8: 147, 9: 101, 10: 64, 11: 55, 12: 41, 13: 40, 14: 13, 15: 14, 16: 13, 17: 16, 18: 3, 19: 4, 20: 3, 22: 3, 23: 3, 24: 2, 25: 1, 29: 2, 31: 1, 33: 1, 34: 2}\n"
     ]
    }
   ],
   "source": [
    "print(distrib_degree_kron)"
   ]
  },
  {
   "cell_type": "code",
   "execution_count": 148,
   "metadata": {},
   "outputs": [
    {
     "data": {
      "image/png": "[encoded data removed]",
      "text/plain": [
       "<Figure size 432x288 with 1 Axes>"
      ]
     },
     "metadata": {
      "needs_background": "light"
     },
     "output_type": "display_data"
    }
   ],
   "source": [
    "plt.figure()\n",
    "plt.plot(distrib_degree_kron.keys(), distrib_degree_kron.values(), 'go')\n",
    "plt.xscale(\"log\")\n",
    "plt.yscale(\"log\")\n",
    "plt.xlabel(\"Log of Degree of the node\")\n",
    "plt.ylabel(\"Log of Number of nodes concerned\")\n",
    "plt.title(\"Log/log degree distribution of the graph\")\n",
    "plt.show()"
   ]
  },
  {
   "cell_type": "markdown",
   "metadata": {},
   "source": [
    "# Question 10"
   ]
  },
  {
   "cell_type": "code",
   "execution_count": 149,
   "metadata": {},
   "outputs": [],
   "source": [
    "def random_remove (prop, graph): \n",
    "    copy_graph= cp.deepcopy(graph)\n",
    "    number_remove = int(prop*copy_graph.number_of_nodes())\n",
    "    list_to_remove= random.sample(copy_graph.nodes(), number_remove)\n",
    "    copy_graph.remove_nodes_from(list_to_remove)\n",
    "    GCC= max(nx.connected_component_subgraphs(copy_graph), key=len)\n",
    "    return [GCC.number_of_nodes(),copy_graph.number_of_nodes()-GCC.number_of_nodes()]\n",
    "\n",
    "def target_remove (prop, graph): \n",
    "    copy_graph= cp.deepcopy(graph)\n",
    "    list_node_sorted=sorted(dict(copy_graph.degree()).items(),key=operator.itemgetter(1), reverse=True)\n",
    "    for i in range(int(copy_graph.number_of_nodes()*prop)):\n",
    "        copy_graph.remove_node(list_node_sorted[i][0])\n",
    "    GCC= max(nx.connected_component_subgraphs(copy_graph), key=len)\n",
    "    return [GCC.number_of_nodes(),copy_graph.number_of_nodes()-GCC.number_of_nodes()]\n",
    "    "
   ]
  },
  {
   "cell_type": "code",
   "execution_count": 155,
   "metadata": {},
   "outputs": [],
   "source": [
    "prop_vect = np.linspace(0, 0.2, 100)\n",
    "\n",
    "def remove_plot (prop_vect, graph): \n",
    "    GCC_random=[]\n",
    "    GCC_target=[]\n",
    "    other_random=[]\n",
    "    other_target=[]\n",
    "    for i in range (len(prop_vect)):\n",
    "        temp_1=random_remove (prop_vect[i], graph)\n",
    "        temp_2=target_remove (prop_vect[i], graph)\n",
    "        GCC_random.append(temp_1[0])\n",
    "        other_random.append(temp_1[1])\n",
    "        GCC_target.append(temp_2[0])\n",
    "        other_target.append(temp_2[1])\n",
    "    return GCC_random,GCC_target,other_random,other_target\n"
   ]
  },
  {
   "cell_type": "code",
   "execution_count": 156,
   "metadata": {},
   "outputs": [
    {
     "data": {
      "image/png": "[encoded data removed]",
      "text/plain": [
       "<Figure size 432x288 with 1 Axes>"
      ]
     },
     "metadata": {
      "needs_background": "light"
     },
     "output_type": "display_data"
    }
   ],
   "source": [
    "GCC_random,GCC_target,other_random,other_target=remove_plot (prop_vect, graph)\n",
    "\n",
    "plt.figure()\n",
    "plt.plot(prop_vect, GCC_random)\n",
    "plt.plot(prop_vect, GCC_target)\n",
    "plt.plot(prop_vect, other_random)\n",
    "plt.plot(prop_vect, other_target)\n",
    "plt.legend([\"GCC random\",\"GCC target\", \"Rest random\", \"Rest target\"])\n",
    "plt.xlabel(\"Proportion of removed nodes\")\n",
    "plt.ylabel(\"Number of nodes\")\n",
    "plt.title(\"robustness of a network annalysis\")\n",
    "plt.show()"
   ]
  },
  {
   "cell_type": "code",
   "execution_count": null,
   "metadata": {},
   "outputs": [],
   "source": []
  }
 ],
 "metadata": {
  "kernelspec": {
   "display_name": "Python 2",
   "language": "python",
   "name": "python2"
  },
  "language_info": {
   "codemirror_mode": {
    "name": "ipython",
    "version": 2
   },
   "file_extension": ".py",
   "mimetype": "text/x-python",
   "name": "python",
   "nbconvert_exporter": "python",
   "pygments_lexer": "ipython2",
   "version": "2.7.15"
  }
 },
 "nbformat": 4,
 "nbformat_minor": 2
}
